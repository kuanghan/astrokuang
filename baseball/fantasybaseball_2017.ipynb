{
 "cells": [
  {
   "cell_type": "markdown",
   "metadata": {},
   "source": [
    "# Prepare my own spreadsheet for 2017 Yahoo Fantasy Baseball (roto format)\n",
    "The goal is to identify players who could be over-/under-valued based on their performance in 2016. For hitters and pitchers, I identify stats that I think either (1) reflect their true talent, or (2) are heavily influenced by luck. For each stat, I calculate the Z-score (the number of standard deviations away from the average). For each player, I sum the Z-scores from all the stats that I chose. The players are then ranked based on their total Z-scores.\n",
    "This is meant to be a guide for me when bidding for players. If a player has a high total Z-score, I could go a bit higher in bidding; if a player has a low total Z-score, I would refrain myself from overpaying.\n",
    "This ranking ignores all the projection systems and is based on performance in 2016 only. Therefore, it is not a strict ranking of players, but rather as an aid for deciding how much to pay for a given player."
   ]
  },
  {
   "cell_type": "code",
   "execution_count": 1,
   "metadata": {
    "collapsed": true
   },
   "outputs": [],
   "source": [
    "import numpy as np\n",
    "import pandas as pd\n",
    "import matplotlib.pyplot as plt\n",
    "import statsmodels.api as sm\n",
    "%matplotlib inline"
   ]
  },
  {
   "cell_type": "markdown",
   "metadata": {},
   "source": [
    "### Define functions that clean up hitter data"
   ]
  },
  {
   "cell_type": "code",
   "execution_count": 2,
   "metadata": {
    "collapsed": true
   },
   "outputs": [],
   "source": [
    "RATE_COLUMNS = ['BB%', 'K%', 'O-Swing%', 'Z-Contact%', 'Contact%', 'SwStr%', 'HR/FB']\n",
    "P_RATE_COLUMNS = ['LOB%', 'GB%', 'HR/FB', 'O-Swing%', 'Contact%', 'F-Strike%', 'SwStr%', 'K%', 'BB%']\n",
    "\n",
    "def reformat_rate_columns(df, columns=RATE_COLUMNS):\n",
    "    \"\"\"\n",
    "    Re-format rate stats from percentages to decimal numbers.\n",
    "    \"\"\"\n",
    "    for col in columns:\n",
    "        values = df[col].str.replace('%', '')\n",
    "        values = values.astype('float') / 100.\n",
    "        df[col] = values\n",
    "    return df\n",
    "\n",
    "\n",
    "def calc_Zscore_hitter(df, col, positive=True, min_PA=50):\n",
    "    \"\"\"\n",
    "    Calculate Z scores for a given column, using players with at least min_PA plate appearances.\n",
    "    The argument \"positive\" means higher values for this column is more desirable.\n",
    "    \"\"\"\n",
    "    qual = (df['PA'] >= min_PA)\n",
    "    values = df.loc[qual, col]\n",
    "    norm, scale = sm.robust.scale.huber(values)\n",
    "    zscore = (df[col] - norm) / scale\n",
    "    if not positive:\n",
    "        zscore = zscore * -1\n",
    "    df = df.assign(**{'zscore_'+col: zscore})\n",
    "    return df\n",
    "\n",
    "\n",
    "def calc_Zscore_pitcher(df, col, positive=True, min_IP=50):\n",
    "    \"\"\"\n",
    "    Calculate Z scores for a given column, using players with at least min_PA plate appearances.\n",
    "    The argument \"positive\" means higher values for this column is more desirable.\n",
    "    \"\"\"\n",
    "    qual = (df['IP'] >= min_IP)\n",
    "    values = df.loc[qual, col]\n",
    "    norm, scale = sm.robust.scale.huber(values)\n",
    "    zscore = (df[col] - norm) / scale\n",
    "    if not positive:\n",
    "        zscore = zscore * -1\n",
    "    df = df.assign(**{'zscore_'+col: zscore})\n",
    "    return df"
   ]
  },
  {
   "cell_type": "code",
   "execution_count": 15,
   "metadata": {
    "collapsed": false
   },
   "outputs": [
    {
     "name": "stderr",
     "output_type": "stream",
     "text": [
      "/Users/khuang/anaconda/lib/python3.5/site-packages/ipykernel/__main__.py:19: FutureWarning: sort(columns=....) is deprecated, use sort_values(by=.....)\n"
     ]
    }
   ],
   "source": [
    "positions = ['C', '1B', '2B', '3B', 'SS', 'OF']\n",
    "hitters = {}\n",
    "for pos in positions:\n",
    "    df = pd.read_csv('{}_2017.csv'.format(pos), index_col='playerid')\n",
    "    df = reformat_rate_columns(df)\n",
    "    df = calc_Zscore_hitter(df, 'BB%')\n",
    "    df = calc_Zscore_hitter(df, 'K%', positive=False)\n",
    "    df = calc_Zscore_hitter(df, 'GB/FB', positive=False)\n",
    "    df = calc_Zscore_hitter(df, 'HR/FB', positive=False)\n",
    "    df = calc_Zscore_hitter(df, 'O-Swing%', positive=False)\n",
    "    df = calc_Zscore_hitter(df, 'Z-Contact%')\n",
    "    df = calc_Zscore_hitter(df, 'SwStr%', positive=False)\n",
    "    zscore_col = [col for col in df.columns if col.startswith('zscore')]\n",
    "    df['zscore_sum'] = df[zscore_col].sum(axis=1) / 7.\n",
    "    columns = ['Name', 'WAR', 'zscore_sum']\n",
    "    for col in df.columns:\n",
    "        if col not in columns + ['Fantasy', '$']:\n",
    "            columns.append(col)\n",
    "    hitters[pos] = df[columns].sort('WAR', ascending=False)"
   ]
  },
  {
   "cell_type": "code",
   "execution_count": 16,
   "metadata": {
    "collapsed": false
   },
   "outputs": [
    {
     "data": {
      "text/html": [
       "<div>\n",
       "<table border=\"1\" class=\"dataframe\">\n",
       "  <thead>\n",
       "    <tr style=\"text-align: right;\">\n",
       "      <th></th>\n",
       "      <th>Name</th>\n",
       "      <th>WAR</th>\n",
       "      <th>zscore_sum</th>\n",
       "      <th>Team</th>\n",
       "      <th>G</th>\n",
       "      <th>PA</th>\n",
       "      <th>HR</th>\n",
       "      <th>R</th>\n",
       "      <th>RBI</th>\n",
       "      <th>SB</th>\n",
       "      <th>...</th>\n",
       "      <th>Contact%</th>\n",
       "      <th>SwStr%</th>\n",
       "      <th>HR/FB</th>\n",
       "      <th>zscore_BB%</th>\n",
       "      <th>zscore_K%</th>\n",
       "      <th>zscore_GB/FB</th>\n",
       "      <th>zscore_HR/FB</th>\n",
       "      <th>zscore_O-Swing%</th>\n",
       "      <th>zscore_Z-Contact%</th>\n",
       "      <th>zscore_SwStr%</th>\n",
       "    </tr>\n",
       "    <tr>\n",
       "      <th>playerid</th>\n",
       "      <th></th>\n",
       "      <th></th>\n",
       "      <th></th>\n",
       "      <th></th>\n",
       "      <th></th>\n",
       "      <th></th>\n",
       "      <th></th>\n",
       "      <th></th>\n",
       "      <th></th>\n",
       "      <th></th>\n",
       "      <th></th>\n",
       "      <th></th>\n",
       "      <th></th>\n",
       "      <th></th>\n",
       "      <th></th>\n",
       "      <th></th>\n",
       "      <th></th>\n",
       "      <th></th>\n",
       "      <th></th>\n",
       "      <th></th>\n",
       "      <th></th>\n",
       "    </tr>\n",
       "  </thead>\n",
       "  <tbody>\n",
       "    <tr>\n",
       "      <th>7870</th>\n",
       "      <td>Jonathan Lucroy</td>\n",
       "      <td>4.5</td>\n",
       "      <td>0.248643</td>\n",
       "      <td>- - -</td>\n",
       "      <td>142</td>\n",
       "      <td>544</td>\n",
       "      <td>24</td>\n",
       "      <td>67</td>\n",
       "      <td>81</td>\n",
       "      <td>5</td>\n",
       "      <td>...</td>\n",
       "      <td>0.818</td>\n",
       "      <td>0.078</td>\n",
       "      <td>0.158</td>\n",
       "      <td>0.092654</td>\n",
       "      <td>0.629172</td>\n",
       "      <td>0.607008</td>\n",
       "      <td>-0.919283</td>\n",
       "      <td>-0.070199</td>\n",
       "      <td>0.474547</td>\n",
       "      <td>0.926602</td>\n",
       "    </tr>\n",
       "    <tr>\n",
       "      <th>9166</th>\n",
       "      <td>Buster Posey</td>\n",
       "      <td>4.0</td>\n",
       "      <td>0.624590</td>\n",
       "      <td>Giants</td>\n",
       "      <td>146</td>\n",
       "      <td>614</td>\n",
       "      <td>14</td>\n",
       "      <td>82</td>\n",
       "      <td>80</td>\n",
       "      <td>6</td>\n",
       "      <td>...</td>\n",
       "      <td>0.870</td>\n",
       "      <td>0.061</td>\n",
       "      <td>0.098</td>\n",
       "      <td>0.602243</td>\n",
       "      <td>1.858438</td>\n",
       "      <td>-0.806740</td>\n",
       "      <td>0.029565</td>\n",
       "      <td>0.012299</td>\n",
       "      <td>1.136286</td>\n",
       "      <td>1.540043</td>\n",
       "    </tr>\n",
       "    <tr>\n",
       "      <th>1433</th>\n",
       "      <td>Wilson Ramos</td>\n",
       "      <td>3.5</td>\n",
       "      <td>-0.300039</td>\n",
       "      <td>Nationals</td>\n",
       "      <td>131</td>\n",
       "      <td>523</td>\n",
       "      <td>22</td>\n",
       "      <td>58</td>\n",
       "      <td>80</td>\n",
       "      <td>0</td>\n",
       "      <td>...</td>\n",
       "      <td>0.819</td>\n",
       "      <td>0.091</td>\n",
       "      <td>0.214</td>\n",
       "      <td>-0.445244</td>\n",
       "      <td>1.184868</td>\n",
       "      <td>-1.903977</td>\n",
       "      <td>-1.804875</td>\n",
       "      <td>-0.103199</td>\n",
       "      <td>0.514653</td>\n",
       "      <td>0.457500</td>\n",
       "    </tr>\n",
       "    <tr>\n",
       "      <th>11739</th>\n",
       "      <td>J.T. Realmuto</td>\n",
       "      <td>3.5</td>\n",
       "      <td>-0.000542</td>\n",
       "      <td>Marlins</td>\n",
       "      <td>137</td>\n",
       "      <td>545</td>\n",
       "      <td>11</td>\n",
       "      <td>60</td>\n",
       "      <td>48</td>\n",
       "      <td>12</td>\n",
       "      <td>...</td>\n",
       "      <td>0.824</td>\n",
       "      <td>0.085</td>\n",
       "      <td>0.088</td>\n",
       "      <td>-0.898211</td>\n",
       "      <td>0.646012</td>\n",
       "      <td>-0.785640</td>\n",
       "      <td>0.187707</td>\n",
       "      <td>-0.482691</td>\n",
       "      <td>0.655021</td>\n",
       "      <td>0.674009</td>\n",
       "    </tr>\n",
       "    <tr>\n",
       "      <th>11442</th>\n",
       "      <td>Gary Sanchez</td>\n",
       "      <td>3.2</td>\n",
       "      <td>-0.954577</td>\n",
       "      <td>Yankees</td>\n",
       "      <td>53</td>\n",
       "      <td>229</td>\n",
       "      <td>20</td>\n",
       "      <td>34</td>\n",
       "      <td>42</td>\n",
       "      <td>1</td>\n",
       "      <td>...</td>\n",
       "      <td>0.710</td>\n",
       "      <td>0.130</td>\n",
       "      <td>0.400</td>\n",
       "      <td>0.630553</td>\n",
       "      <td>-0.465379</td>\n",
       "      <td>-0.405827</td>\n",
       "      <td>-4.746305</td>\n",
       "      <td>-0.598188</td>\n",
       "      <td>-0.147086</td>\n",
       "      <td>-0.949805</td>\n",
       "    </tr>\n",
       "  </tbody>\n",
       "</table>\n",
       "<p>5 rows × 35 columns</p>\n",
       "</div>"
      ],
      "text/plain": [
       "                     Name  WAR  zscore_sum       Team    G   PA  HR   R  RBI  \\\n",
       "playerid                                                                       \n",
       "7870      Jonathan Lucroy  4.5    0.248643      - - -  142  544  24  67   81   \n",
       "9166         Buster Posey  4.0    0.624590     Giants  146  614  14  82   80   \n",
       "1433         Wilson Ramos  3.5   -0.300039  Nationals  131  523  22  58   80   \n",
       "11739       J.T. Realmuto  3.5   -0.000542    Marlins  137  545  11  60   48   \n",
       "11442        Gary Sanchez  3.2   -0.954577    Yankees   53  229  20  34   42   \n",
       "\n",
       "          SB      ...        Contact%  SwStr%  HR/FB  zscore_BB%  zscore_K%  \\\n",
       "playerid          ...                                                         \n",
       "7870       5      ...           0.818   0.078  0.158    0.092654   0.629172   \n",
       "9166       6      ...           0.870   0.061  0.098    0.602243   1.858438   \n",
       "1433       0      ...           0.819   0.091  0.214   -0.445244   1.184868   \n",
       "11739     12      ...           0.824   0.085  0.088   -0.898211   0.646012   \n",
       "11442      1      ...           0.710   0.130  0.400    0.630553  -0.465379   \n",
       "\n",
       "          zscore_GB/FB  zscore_HR/FB  zscore_O-Swing%  zscore_Z-Contact%  \\\n",
       "playerid                                                                   \n",
       "7870          0.607008     -0.919283        -0.070199           0.474547   \n",
       "9166         -0.806740      0.029565         0.012299           1.136286   \n",
       "1433         -1.903977     -1.804875        -0.103199           0.514653   \n",
       "11739        -0.785640      0.187707        -0.482691           0.655021   \n",
       "11442        -0.405827     -4.746305        -0.598188          -0.147086   \n",
       "\n",
       "          zscore_SwStr%  \n",
       "playerid                 \n",
       "7870           0.926602  \n",
       "9166           1.540043  \n",
       "1433           0.457500  \n",
       "11739          0.674009  \n",
       "11442         -0.949805  \n",
       "\n",
       "[5 rows x 35 columns]"
      ]
     },
     "execution_count": 16,
     "metadata": {},
     "output_type": "execute_result"
    }
   ],
   "source": [
    "hitters['C'].head()"
   ]
  },
  {
   "cell_type": "code",
   "execution_count": 17,
   "metadata": {
    "collapsed": true
   },
   "outputs": [],
   "source": [
    "for pos in hitters.keys():\n",
    "    hitters[pos].to_csv('{}_2017_zscore.csv'.format(pos), index=False)"
   ]
  },
  {
   "cell_type": "markdown",
   "metadata": {},
   "source": [
    "## Pitchters"
   ]
  },
  {
   "cell_type": "code",
   "execution_count": 13,
   "metadata": {
    "collapsed": false
   },
   "outputs": [
    {
     "name": "stderr",
     "output_type": "stream",
     "text": [
      "/Users/khuang/anaconda/lib/python3.5/site-packages/ipykernel/__main__.py:21: FutureWarning: sort(columns=....) is deprecated, use sort_values(by=.....)\n"
     ]
    }
   ],
   "source": [
    "sp = pd.read_csv('SP_2017.csv', index_col='playerid')\n",
    "sp = reformat_rate_columns(sp, columns=P_RATE_COLUMNS)\n",
    "sp = calc_Zscore_pitcher(sp, 'BABIP')\n",
    "sp = calc_Zscore_pitcher(sp, 'LOB%', positive=False)\n",
    "sp = calc_Zscore_pitcher(sp, 'GB/FB')\n",
    "sp = calc_Zscore_pitcher(sp, 'HR/FB')\n",
    "sp = calc_Zscore_pitcher(sp, 'O-Swing%')\n",
    "sp = calc_Zscore_pitcher(sp, 'Contact%', positive=False)\n",
    "sp = calc_Zscore_pitcher(sp, 'F-Strike%')\n",
    "sp = calc_Zscore_pitcher(sp, 'SwStr%')\n",
    "sp = calc_Zscore_pitcher(sp, 'K%')\n",
    "sp = calc_Zscore_pitcher(sp, 'BB%')\n",
    "\n",
    "zscore_columns = [col for col in sp.columns if col.startswith('zscore')]\n",
    "sp = sp.assign(**{'zscore_sum': sp[zscore_columns].sum(axis=1) / 10.})\n",
    "columns = ['Name', 'zscore_sum']\n",
    "for col in sp.columns:\n",
    "    if col not in columns + ['Fantasy', '$']:\n",
    "        columns.append(col)\n",
    "\n",
    "sp[columns].sort('WAR', ascending=False).to_csv('SP_2017_zscore.csv', index=False)"
   ]
  },
  {
   "cell_type": "code",
   "execution_count": 14,
   "metadata": {
    "collapsed": false
   },
   "outputs": [
    {
     "name": "stderr",
     "output_type": "stream",
     "text": [
      "/Users/khuang/anaconda/lib/python3.5/site-packages/ipykernel/__main__.py:21: FutureWarning: sort(columns=....) is deprecated, use sort_values(by=.....)\n"
     ]
    }
   ],
   "source": [
    "rp = pd.read_csv('RP_2017.csv', index_col='playerid')\n",
    "rp = reformat_rate_columns(rp, columns=P_RATE_COLUMNS)\n",
    "rp = calc_Zscore_pitcher(rp, 'BABIP')\n",
    "rp = calc_Zscore_pitcher(rp, 'LOB%', positive=False)\n",
    "rp = calc_Zscore_pitcher(rp, 'GB/FB')\n",
    "rp = calc_Zscore_pitcher(rp, 'HR/FB')\n",
    "rp = calc_Zscore_pitcher(rp, 'O-Swing%')\n",
    "rp = calc_Zscore_pitcher(rp, 'Contact%', positive=False)\n",
    "rp = calc_Zscore_pitcher(rp, 'F-Strike%')\n",
    "rp = calc_Zscore_pitcher(rp, 'SwStr%')\n",
    "rp = calc_Zscore_pitcher(rp, 'K%')\n",
    "rp = calc_Zscore_pitcher(rp, 'BB%')\n",
    "\n",
    "zscore_columns = [col for col in rp.columns if col.startswith('zscore')]\n",
    "rp = rp.assign(**{'zscore_sum': rp[zscore_columns].sum(axis=1) / 10.})\n",
    "columns = ['Name', 'zscore_sum']\n",
    "for col in rp.columns:\n",
    "    if col not in columns + ['Fantasy', '$']:\n",
    "        columns.append(col)\n",
    "\n",
    "rp[columns].sort('WAR', ascending=False).to_csv('RP_2017_zscore.csv', index=False)"
   ]
  },
  {
   "cell_type": "code",
   "execution_count": null,
   "metadata": {
    "collapsed": true
   },
   "outputs": [],
   "source": []
  }
 ],
 "metadata": {
  "anaconda-cloud": {},
  "kernelspec": {
   "display_name": "Python [default]",
   "language": "python",
   "name": "python3"
  },
  "language_info": {
   "codemirror_mode": {
    "name": "ipython",
    "version": 3
   },
   "file_extension": ".py",
   "mimetype": "text/x-python",
   "name": "python",
   "nbconvert_exporter": "python",
   "pygments_lexer": "ipython3",
   "version": "3.5.2"
  }
 },
 "nbformat": 4,
 "nbformat_minor": 2
}
